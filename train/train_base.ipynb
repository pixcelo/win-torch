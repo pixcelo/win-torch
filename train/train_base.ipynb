{
 "cells": [
  {
   "cell_type": "code",
   "execution_count": null,
   "metadata": {},
   "outputs": [],
   "source": [
    "import pandas as pd\n",
    "from sklearn.model_selection import train_test_split\n",
    "\n",
    "# import class modules\n",
    "from feature_engineer import FeatureEngineer\n",
    "from trading_env import TradingEnv\n",
    "from trading_env_short import ShortingTradingEnv\n",
    "from trading_env_plotter import TradingEnvPlotter\n",
    "from agent import Agent"
   ]
  },
  {
   "cell_type": "code",
   "execution_count": null,
   "metadata": {},
   "outputs": [],
   "source": [
    "df = pd.read_csv('../csv/BTCUSDT_1m_20210801_20221231.csv')\n",
    "fe = FeatureEngineer(df)\n",
    "df = fe.feature_engineering(df)\n",
    "display(df)\n",
    "\n",
    "# Assume 80% of the data is used for training and 20% for testing\n",
    "train_df, test_df = train_test_split(df, test_size=0.2, shuffle=False)\n",
    "\n",
    "# Initialize the environment and the agent\n",
    "env = TradingEnv(train_df)\n",
    "# env = ShortingTradingEnv(train_df)\n",
    "plotter = TradingEnvPlotter(env.action_space)\n",
    "agent = Agent(env)\n",
    "\n",
    "# Run the main training loop\n",
    "EPISODES = 1000\n",
    "for e in range(EPISODES):\n",
    "    agent.learn(e, len(df))\n",
    "    plotter.update_history(env.history, env.total_asset_history, env.actions_history, env.episode_rewards)\n",
    "\n",
    "    print(e)\n",
    "    if (e+1) % 100 == 0:        \n",
    "        plotter.plot_history()\n",
    "\n",
    "# Plot the stock price at the end\n",
    "plotter.plot_stock_price(env.df)"
   ]
  },
  {
   "cell_type": "code",
   "execution_count": null,
   "metadata": {},
   "outputs": [],
   "source": [
    "agent.save_model()"
   ]
  }
 ],
 "metadata": {
  "kernelspec": {
   "display_name": "venv",
   "language": "python",
   "name": "python3"
  },
  "language_info": {
   "codemirror_mode": {
    "name": "ipython",
    "version": 3
   },
   "file_extension": ".py",
   "mimetype": "text/x-python",
   "name": "python",
   "nbconvert_exporter": "python",
   "pygments_lexer": "ipython3",
   "version": "3.10.0"
  },
  "orig_nbformat": 4
 },
 "nbformat": 4,
 "nbformat_minor": 2
}
